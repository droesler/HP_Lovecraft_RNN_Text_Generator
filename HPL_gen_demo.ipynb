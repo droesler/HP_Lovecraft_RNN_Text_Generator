{
  "nbformat": 4,
  "nbformat_minor": 0,
  "metadata": {
    "colab": {
      "name": "HPL_gen_demo.ipynb",
      "provenance": [],
      "collapsed_sections": []
    },
    "kernelspec": {
      "name": "python3",
      "display_name": "Python 3"
    },
    "language_info": {
      "name": "python"
    }
  },
  "cells": [
    {
      "cell_type": "markdown",
      "metadata": {
        "id": "NsVsSD4UZhfu"
      },
      "source": [
        "# Import TensorFlow"
      ]
    },
    {
      "cell_type": "code",
      "metadata": {
        "id": "1xmYJDP6QsXY"
      },
      "source": [
        "import tensorflow as tf\n",
        "import time"
      ],
      "execution_count": 1,
      "outputs": []
    },
    {
      "cell_type": "markdown",
      "metadata": {
        "id": "XSi3iRWsZvpO"
      },
      "source": [
        "# Download the model (36 MB) from Github to Colab "
      ]
    },
    {
      "cell_type": "code",
      "metadata": {
        "id": "WKTKqzt7YG5C"
      },
      "source": [
        "!wget https://github.com/droesler/HP_Lovecraft_RNN_Text_Generator/raw/main/HPL_generator_model.zip"
      ],
      "execution_count": null,
      "outputs": []
    },
    {
      "cell_type": "markdown",
      "metadata": {
        "id": "wfNB2ZeZaE0O"
      },
      "source": [
        "# Unzip the model file"
      ]
    },
    {
      "cell_type": "code",
      "metadata": {
        "colab": {
          "base_uri": "https://localhost:8080/"
        },
        "id": "MiMSFEgKRZsD",
        "outputId": "6e16ec34-f69f-4857-c2de-028ff9f6ec8e"
      },
      "source": [
        "!unzip /content/HPL_generator_model.zip "
      ],
      "execution_count": 3,
      "outputs": [
        {
          "output_type": "stream",
          "name": "stdout",
          "text": [
            "Archive:  /content/HPL_generator_model.zip\n",
            "replace one_step/variables/variables.data-00000-of-00001? [y]es, [n]o, [A]ll, [N]one, [r]ename: y\n",
            "  inflating: one_step/variables/variables.data-00000-of-00001  \n",
            "replace one_step/variables/variables.index? [y]es, [n]o, [A]ll, [N]one, [r]ename: A\n",
            "  inflating: one_step/variables/variables.index  \n",
            "  inflating: one_step/saved_model.pb  \n"
          ]
        }
      ]
    },
    {
      "cell_type": "markdown",
      "metadata": {
        "id": "_1SuqIyvaJYs"
      },
      "source": [
        "# Load the model"
      ]
    },
    {
      "cell_type": "code",
      "metadata": {
        "id": "qZW11_cSQym4"
      },
      "source": [
        "one_step_model = tf.saved_model.load('./one_step')"
      ],
      "execution_count": 4,
      "outputs": []
    },
    {
      "cell_type": "markdown",
      "metadata": {
        "id": "W2T-uylKbDde"
      },
      "source": [
        "# Generate text"
      ]
    },
    {
      "cell_type": "markdown",
      "metadata": {
        "id": "dqpqj94DdCMV"
      },
      "source": [
        "Set the intial prompt and number of characters to generate"
      ]
    },
    {
      "cell_type": "code",
      "metadata": {
        "id": "lRt2QrNMcuYv"
      },
      "source": [
        "initial_prompt = 'The blasphemous'\n",
        "chars_to_gen = 1000"
      ],
      "execution_count": null,
      "outputs": []
    },
    {
      "cell_type": "markdown",
      "metadata": {
        "id": "7qk425TLdIlB"
      },
      "source": [
        "Run the generation loop. Rerun the previous cell if changes are made."
      ]
    },
    {
      "cell_type": "code",
      "metadata": {
        "colab": {
          "base_uri": "https://localhost:8080/"
        },
        "id": "2u6i7XFmQ1BH",
        "outputId": "802e605d-60cc-4c2b-94b2-45ce1195c516"
      },
      "source": [
        "start = time.time()\n",
        "states_list = None\n",
        "next_char = tf.constant([initial_prompt])\n",
        "result = [next_char]\n",
        "\n",
        "for n in range(chars_to_gen):\n",
        "  next_char, states_list = one_step_model.generate_one_step(next_char, states_list=states_list)\n",
        "  result.append(next_char)\n",
        "\n",
        "result = tf.strings.join(result)\n",
        "end = time.time()\n",
        "print(result[0].numpy().decode('utf-8'), '\\n\\n' + '_'*80)\n",
        "print('\\nRun time:', end - start)"
      ],
      "execution_count": 5,
      "outputs": [
        {
          "output_type": "stream",
          "name": "stdout",
          "text": [
            "The blasphemous place he had worked it in his lots--a suggestion of chanting in the dark mute cry to the city, but there was nothing else ever grown at the top of the slanting place of the country.\n",
            "It was plain that he was the last traffick with his colleagues, when the moon was guessed from the plain and a supernal radiance and analysis conditions of its lonely wish to cross any effect.\n",
            "And it was too much for my life in the potter's field.\n",
            "West was great we both took place at great a single eyes with a sound of intensely horrible sights by the window and could hardly be discovered and the individual physical and mental calculations.\n",
            "Those whitish-gold men had to force me to live again when I had to let him glimber up and as he laid him up gilded the chief of the crypt below Leng which the race took only a few feet wide and disappeared.\n",
            "At length Carter crossed the sun and stone, and the priests of the city were with the broken snore of Yandea and simple and sinister with distant pleas.\n",
            "In the day I \n",
            "\n",
            "________________________________________________________________________________\n",
            "\n",
            "Run time: 5.736469745635986\n"
          ]
        }
      ]
    },
    {
      "cell_type": "code",
      "metadata": {
        "id": "XjITAnElUaQU"
      },
      "source": [
        ""
      ],
      "execution_count": null,
      "outputs": []
    }
  ]
}